{
 "cells": [
  {
   "cell_type": "code",
   "execution_count": 5,
   "metadata": {},
   "outputs": [],
   "source": [
    "from faker import Faker\n",
    "import pandas as pd\n",
    "import random\n",
    "import os\n",
    "import numpy as np\n",
    "\n",
    "fake = Faker(seed=123) \n",
    "\n",
    "num_rows = 10000\n",
    "\n",
    "data = {\n",
    "    \"name\": [fake.name() for _ in range(num_rows)],\n",
    "    \"email\": [fake.email() for _ in range(num_rows)],\n",
    "    \"phone\": [fake.phone_number() for _ in range(num_rows)],\n",
    "    \"address\": [fake.address() for _ in range(num_rows)],\n",
    "    \"date_of_birth\": [fake.date_of_birth(minimum_age=18, maximum_age=80).strftime(\"%Y-%m-%d\") for _ in range(num_rows)],\n",
    "    \"salary\": [fake.random_int(min=30000, max=100000) for _ in range(num_rows)],\n",
    "    \"department\": [fake.random_element(elements=(\"HR\", \"IT\", \"Finance\", \"Sales\", \"Marketing\")) for _ in range(num_rows)],\n",
    "    \"hire_date\": [fake.date_this_century().strftime(\"%Y-%m-%d\") for _ in range(num_rows)],\n",
    "    \"employee_id\": [fake.unique.random_number() for _ in range(num_rows)]\n",
    "}\n",
    "\n",
    "# Introduce null values in some columns\n",
    "for i in range(100):\n",
    "    data[\"email\"][random.randint(0, num_rows - 1)] = None\n",
    "    data[\"salary\"][random.randint(0, num_rows - 1)] = None\n",
    "\n",
    "# Replace some values in the \"Department\" column with rare values\n",
    "for i in range(50):\n",
    "    data[\"department\"][random.randint(0, num_rows - 1)] = fake.random_element(\n",
    "        elements=(\"Legal\", \"R&D\", \"Customer Support\")\n",
    "    )\n",
    "    \n",
    "df = pd.DataFrame(data) # Create a DataFrame from the generated data\n",
    "\n",
    "output_folder = \"Data/\"\n",
    "os.makedirs(output_folder, exist_ok=True)\n",
    "\n",
    "split_dfs = np.array_split(df, 5)  # Split the DataFrame\n",
    "\n",
    "for i, split_df in enumerate(split_dfs):\n",
    "    file_name = f\"{output_folder}Example_batch_{i}.csv\"\n",
    "    split_df.to_csv(file_name, sep=\",\", index=False)\n"
   ]
  }
 ],
 "metadata": {
  "kernelspec": {
   "display_name": "data_quality_ge",
   "language": "python",
   "name": "python3"
  },
  "language_info": {
   "codemirror_mode": {
    "name": "ipython",
    "version": 3
   },
   "file_extension": ".py",
   "mimetype": "text/x-python",
   "name": "python",
   "nbconvert_exporter": "python",
   "pygments_lexer": "ipython3",
   "version": "3.10.14"
  }
 },
 "nbformat": 4,
 "nbformat_minor": 2
}
